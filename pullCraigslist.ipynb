{
 "cells": [
  {
   "cell_type": "code",
   "execution_count": null,
   "metadata": {
    "collapsed": false
   },
   "outputs": [],
   "source": [
    "import pandas as pd\n",
    "from bs4 import BeautifulSoup\n",
    "import requests\n",
    "import smtplib\n",
    "from email.mime.multipart import MIMEMultipart\n",
    "from email.mime.text import MIMEText"
   ]
  },
  {
   "cell_type": "code",
   "execution_count": null,
   "metadata": {
    "collapsed": false
   },
   "outputs": [],
   "source": [
    "city = \"slo\"\n",
    "query = \"cal+poly\"\n",
    "max_price = \"1500\"\n",
    "url = \"https://%s.craigslist.org/search/apa?query=%s&hasPic=1&max_price=%s&availabilityMode=0\" % (city, query, max_price)\n",
    "base_url = \"https://%s.craigslist.org\" % (city)\n",
    "page = requests.get(url)\n",
    "soup = BeautifulSoup(page.text,\"html.parser\")"
   ]
  },
  {
   "cell_type": "code",
   "execution_count": null,
   "metadata": {
    "collapsed": false
   },
   "outputs": [],
   "source": [
    "apts = soup.find_all('p', attrs={'class' : \"result-info\"})"
   ]
  },
  {
   "cell_type": "code",
   "execution_count": null,
   "metadata": {
    "collapsed": false
   },
   "outputs": [],
   "source": [
    "header = apts[0].find_all('a')\n",
    "listings = apts[0].find_all('span')"
   ]
  },
  {
   "cell_type": "code",
   "execution_count": null,
   "metadata": {
    "collapsed": false
   },
   "outputs": [],
   "source": [
    "title = []\n",
    "price = []\n",
    "rooms = []\n",
    "link = []\n",
    "for i in range(0,len(apts)):\n",
    "    title.append({'Title' : apts[i].find_all('a')[0].find(text=True)})\n",
    "    price.append({'Price': apts[i].find_all('span')[3].find(text=True)})\n",
    "    if apts[i].find_all('span')[4].find(text=True).find('br') != -1:\n",
    "        rooms.append({'Rooms': apts[i].find_all('span')[4].find(text=True).replace(' ', '').replace('\\n','').replace(\"-\",\"\")})\n",
    "    else:\n",
    "        rooms.append({'Rooms' : \"N/A\"})    \n",
    "    link.append({'Link' : base_url + apts[i].find_all('a')[0]['href']})"
   ]
  },
  {
   "cell_type": "code",
   "execution_count": null,
   "metadata": {
    "collapsed": false
   },
   "outputs": [],
   "source": [
    "df_t = pd.DataFrame(title)\n",
    "df_p = pd.DataFrame(price)\n",
    "df_r = pd.DataFrame(rooms)\n",
    "df_l = pd.DataFrame(link)\n",
    "df = pd.concat([df_t, df_p, df_r, df_l], axis=1)\n",
    "df_html = df.to_html(index=False)"
   ]
  },
  {
   "cell_type": "code",
   "execution_count": null,
   "metadata": {
    "collapsed": false
   },
   "outputs": [],
   "source": [
    "metadata = pd.read_csv(\"metadata.csv\")\n",
    "md_list = list(metadata['metadata'])\n",
    "md_list"
   ]
  },
  {
   "cell_type": "code",
   "execution_count": null,
   "metadata": {
    "collapsed": false
   },
   "outputs": [],
   "source": [
    "me = md_list[0]\n",
    "you = md_list[1]\n",
    "you1 = md_list[2]\n",
    "you2 = md_list[3]\n",
    "\n",
    "msg = MIMEMultipart('alternative')\n",
    "msg['Subject'] = \"Daily Apartment Listings\"\n",
    "msg['From'] = me\n",
    "msg['To'] = you\n",
    "\n",
    "# Create the body of the message (a plain-text and an HTML version).\n",
    "text = \"Below are today's Craigslist apartments\"\n",
    "html = df_html\n",
    "part1 = MIMEText(text, 'plain')\n",
    "part2 = MIMEText(html, 'html')\n",
    "\n",
    "\n",
    "msg.attach(part1)\n",
    "msg.attach(part2)\n",
    "# Send the message via local SMTP server.\n",
    "mail = smtplib.SMTP('smtp.gmail.com', 587)\n",
    "\n",
    "mail.ehlo()\n",
    "\n",
    "mail.starttls()\n",
    "\n",
    "mail.login(me, md_list[4])\n",
    "mail.sendmail(me, you, msg.as_string())\n",
    "mail.sendmail(me, you1, msg.as_string())\n",
    "mail.sendmail(me, you2, msg.as_string())\n",
    "mail.quit()"
   ]
  },
  {
   "cell_type": "code",
   "execution_count": null,
   "metadata": {
    "collapsed": true
   },
   "outputs": [],
   "source": []
  }
 ],
 "metadata": {
  "kernelspec": {
   "display_name": "Python 3",
   "language": "python",
   "name": "python3"
  },
  "language_info": {
   "codemirror_mode": {
    "name": "ipython",
    "version": 3
   },
   "file_extension": ".py",
   "mimetype": "text/x-python",
   "name": "python",
   "nbconvert_exporter": "python",
   "pygments_lexer": "ipython3",
   "version": "3.6.0"
  }
 },
 "nbformat": 4,
 "nbformat_minor": 2
}
